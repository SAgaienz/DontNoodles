{
 "cells": [
  {
   "cell_type": "code",
   "execution_count": 21,
   "metadata": {},
   "outputs": [],
   "source": [
    "import sympy\n",
    "import numpy as np\n",
    "import matplotlib.pyplot as plt\n",
    "# sympy.pretty_print(True)"
   ]
  },
  {
   "cell_type": "code",
   "execution_count": 22,
   "metadata": {},
   "outputs": [],
   "source": [
    "α, τc, s, ζp, τm, τp, Kp, Km, Tsp, Gc, Gp, Gm, T, Q, V, A1, B1, A2, B2 = sympy.symbols('α, τ_c,s, ζ_p, τ_m, τ_p, K_p, K_m, T_{sp}, G_c, G_p, G_m, T, Q, V, A_1, B_1, A_2, B_2', real = True)"
   ]
  },
  {
   "cell_type": "code",
   "execution_count": 28,
   "metadata": {},
   "outputs": [
    {
     "data": {
      "text/latex": [
       "$\\displaystyle \\frac{K_{p}}{s^{2} τ_{p}^{2} + 2 s ζ_{p} τ_{p} + 1}$"
      ],
      "text/plain": [
       "K_p/(s**2*τ_p**2 + 2*s*ζ_p*τ_p + 1)"
      ]
     },
     "execution_count": 28,
     "metadata": {},
     "output_type": "execute_result"
    }
   ],
   "source": [
    "τ = lambda V: A1*V + B1\n",
    "ζ = lambda V: A2*V + B2\n",
    "Gp = lambda V, s: (Kp)/(((τp**2)*(s**2)) +2*τp*ζp*s + 1 )\n",
    "Gp(V, s).collect(s)"
   ]
  },
  {
   "cell_type": "code",
   "execution_count": 29,
   "metadata": {},
   "outputs": [
    {
     "data": {
      "text/latex": [
       "$\\displaystyle \\frac{K_{m}}{s τ_{m} + 1}$"
      ],
      "text/plain": [
       "K_m/(s*τ_m + 1)"
      ]
     },
     "execution_count": 29,
     "metadata": {},
     "output_type": "execute_result"
    }
   ],
   "source": [
    "Gm = (Km)/(τm*s + 1)\n",
    "Gm"
   ]
  },
  {
   "cell_type": "markdown",
   "metadata": {},
   "source": [
    "### DS"
   ]
  },
  {
   "cell_type": "code",
   "execution_count": 30,
   "metadata": {},
   "outputs": [],
   "source": [
    "TTsp_d = 1/((τc*s + 1)**(2))"
   ]
  },
  {
   "cell_type": "markdown",
   "metadata": {},
   "source": [
    "## Let: $(\\frac{T(s)}{T_{sp}(s)})_{d} = \\frac{1}{τ_{c} s + 1} =  \\frac{1}{α(A_{1}V + B_{1})s + 1}$"
   ]
  },
  {
   "cell_type": "code",
   "execution_count": 31,
   "metadata": {},
   "outputs": [
    {
     "data": {
      "text/latex": [
       "$\\displaystyle \\frac{1}{\\left(s τ_{c} + 1\\right)^{2}}$"
      ],
      "text/plain": [
       "(s*τ_c + 1)**(-2)"
      ]
     },
     "execution_count": 31,
     "metadata": {},
     "output_type": "execute_result"
    }
   ],
   "source": [
    "# TTsp_d = TTsp_d.subs({τc: α*(A1*V + B1)})\n",
    "TTsp_d"
   ]
  },
  {
   "cell_type": "code",
   "execution_count": 32,
   "metadata": {},
   "outputs": [
    {
     "data": {
      "text/latex": [
       "$\\displaystyle - \\frac{G_{c} K_{p}}{\\left(\\frac{G_{c} K_{m} K_{p}}{\\left(s τ_{m} + 1\\right) \\left(s^{2} τ_{p}^{2} + 2 s ζ_{p} τ_{p} + 1\\right)} + 1\\right) \\left(s^{2} τ_{p}^{2} + 2 s ζ_{p} τ_{p} + 1\\right)} + \\frac{1}{\\left(s τ_{c} + 1\\right)^{2}}$"
      ],
      "text/plain": [
       "-G_c*K_p/((G_c*K_m*K_p/((s*τ_m + 1)*(s**2*τ_p**2 + 2*s*ζ_p*τ_p + 1)) + 1)*(s**2*τ_p**2 + 2*s*ζ_p*τ_p + 1)) + (s*τ_c + 1)**(-2)"
      ]
     },
     "execution_count": 32,
     "metadata": {},
     "output_type": "execute_result"
    }
   ],
   "source": [
    "eqs = TTsp_d - ((Gc*Gp(V, s))/(1 + Gc*Gp(V, s)*Gm))\n",
    "eqs = eqs\n",
    "eqs"
   ]
  },
  {
   "cell_type": "code",
   "execution_count": 34,
   "metadata": {},
   "outputs": [
    {
     "data": {
      "text/latex": [
       "$\\displaystyle \\frac{s^{3} τ_{m} τ_{p}^{2} + 2 s^{2} ζ_{p} τ_{m} τ_{p} + s^{2} τ_{p}^{2} + 2 s ζ_{p} τ_{p} + s τ_{m} + 1}{K_{p} \\left(- K_{m} + s^{3} τ_{c}^{2} τ_{m} + s^{2} τ_{c}^{2} + 2 s^{2} τ_{c} τ_{m} + 2 s τ_{c} + s τ_{m} + 1\\right)}$"
      ],
      "text/plain": [
       "(s**3*τ_m*τ_p**2 + 2*s**2*ζ_p*τ_m*τ_p + s**2*τ_p**2 + 2*s*ζ_p*τ_p + s*τ_m + 1)/(K_p*(-K_m + s**3*τ_c**2*τ_m + s**2*τ_c**2 + 2*s**2*τ_c*τ_m + 2*s*τ_c + s*τ_m + 1))"
      ]
     },
     "execution_count": 34,
     "metadata": {},
     "output_type": "execute_result"
    }
   ],
   "source": [
    "# sympy.init_printing()\n",
    "Gpf = Gp(V, s)\n",
    "a = sympy.solve(eqs,Gc)\n",
    "a[0].simplify().apart(s).simplify()\n"
   ]
  },
  {
   "cell_type": "code",
   "execution_count": 51,
   "metadata": {},
   "outputs": [
    {
     "data": {
      "text/latex": [
       "$\\displaystyle \\frac{s τ_{p}^{2}}{K_{p} τ_{c}} + \\frac{2 ζ_{p} τ_{p}}{K_{p} τ_{c}} + \\frac{1}{K_{p} s τ_{c}}$"
      ],
      "text/plain": [
       "s*τ_p**2/(K_p*τ_c) + 2*ζ_p*τ_p/(K_p*τ_c) + 1/(K_p*s*τ_c)"
      ]
     },
     "execution_count": 51,
     "metadata": {},
     "output_type": "execute_result"
    }
   ],
   "source": [
    "Gc = ((((τp**2)*(s**2)) + (2*ζp*τp*s) + 1)*((1)/(τc*s + 1)) )/(Kp*(1 - ((1)/(τc*s + 1))))\n",
    "Gc.factor(s).apart(s)"
   ]
  },
  {
   "cell_type": "code",
   "execution_count": null,
   "metadata": {},
   "outputs": [],
   "source": []
  },
  {
   "cell_type": "code",
   "execution_count": null,
   "metadata": {},
   "outputs": [],
   "source": []
  },
  {
   "cell_type": "code",
   "execution_count": null,
   "metadata": {},
   "outputs": [],
   "source": []
  }
 ],
 "metadata": {
  "kernelspec": {
   "display_name": "Python 3.8.2 64-bit",
   "language": "python",
   "name": "python38264bite92a6c60aca24840b5b32058214b6820"
  },
  "language_info": {
   "codemirror_mode": {
    "name": "ipython",
    "version": 3
   },
   "file_extension": ".py",
   "mimetype": "text/x-python",
   "name": "python",
   "nbconvert_exporter": "python",
   "pygments_lexer": "ipython3",
   "version": "3.8.2"
  }
 },
 "nbformat": 4,
 "nbformat_minor": 4
}
