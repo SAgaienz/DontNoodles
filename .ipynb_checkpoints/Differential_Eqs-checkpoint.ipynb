{
 "cells": [
  {
   "cell_type": "code",
   "execution_count": 1,
   "metadata": {},
   "outputs": [],
   "source": [
    "import sympy as sp \n",
    "import numpy as np \n",
    "# sp.init_printing(False)"
   ]
  },
  {
   "cell_type": "code",
   "execution_count": 5,
   "metadata": {},
   "outputs": [
    {
     "data": {
      "text/latex": [
       "$\\displaystyle \\frac{K}{\\left(s τ_{1} + 1\\right) \\left(s τ_{2} + 1\\right)}$"
      ],
      "text/plain": [
       "K/((s*τ_1 + 1)*(s*τ_2 + 1))"
      ]
     },
     "execution_count": 5,
     "metadata": {},
     "output_type": "execute_result"
    }
   ],
   "source": [
    "τ1, τ2, s, t, K = sp.symbols('τ_1, τ_2, s, t, K', real=True)\n",
    "Q = sp.Heaviside(s)\n",
    "TF = K/((τ1*s + 1)*(τ2*s + 1))\n",
    "TF"
   ]
  },
  {
   "cell_type": "code",
   "execution_count": 6,
   "metadata": {},
   "outputs": [
    {
     "data": {
      "text/latex": [
       "$\\displaystyle - \\frac{K e^{- \\frac{t}{τ_{2}}} \\theta\\left(t\\right)}{τ_{1} - τ_{2}} + \\frac{K e^{- \\frac{t}{τ_{1}}} \\theta\\left(t\\right)}{τ_{1} - τ_{2}}$"
      ],
      "text/plain": [
       "-K*exp(-t/τ_2)*Heaviside(t)/(τ_1 - τ_2) + K*exp(-t/τ_1)*Heaviside(t)/(τ_1 - τ_2)"
      ]
     },
     "execution_count": 6,
     "metadata": {},
     "output_type": "execute_result"
    }
   ],
   "source": [
    "sp.inverse_laplace_transform( TF , s, t )"
   ]
  },
  {
   "cell_type": "code",
   "execution_count": null,
   "metadata": {},
   "outputs": [],
   "source": []
  }
 ],
 "metadata": {
  "file_extension": ".py",
  "kernelspec": {
   "display_name": "Python 3.8.2 64-bit",
   "language": "python",
   "name": "python38264bite92a6c60aca24840b5b32058214b6820"
  },
  "language_info": {
   "codemirror_mode": {
    "name": "ipython",
    "version": 3
   },
   "file_extension": ".py",
   "mimetype": "text/x-python",
   "name": "python",
   "nbconvert_exporter": "python",
   "pygments_lexer": "ipython3",
   "version": "3.8.2"
  },
  "mimetype": "text/x-python",
  "name": "python",
  "npconvert_exporter": "python",
  "pygments_lexer": "ipython3",
  "version": 3
 },
 "nbformat": 4,
 "nbformat_minor": 2
}
